{
  "nbformat": 4,
  "nbformat_minor": 0,
  "metadata": {
    "colab": {
      "name": "A small portfolio project.ipynb",
      "provenance": [],
      "collapsed_sections": [],
      "toc_visible": true,
      "authorship_tag": "ABX9TyMYHpuHAHukQ29MmhQIPntP",
      "include_colab_link": true
    },
    "kernelspec": {
      "name": "python3",
      "display_name": "Python 3"
    },
    "language_info": {
      "name": "python"
    },
    "gpuClass": "standard",
    "accelerator": "GPU"
  },
  "cells": [
    {
      "cell_type": "markdown",
      "metadata": {
        "id": "view-in-github",
        "colab_type": "text"
      },
      "source": [
        "<a href=\"https://colab.research.google.com/github/andygma567/Portfolio-Project-1/blob/main/A_small_portfolio_project.ipynb\" target=\"_parent\"><img src=\"https://colab.research.google.com/assets/colab-badge.svg\" alt=\"Open In Colab\"/></a>"
      ]
    },
    {
      "cell_type": "markdown",
      "source": [
        "# **Abstract**\n",
        "\n",
        "---\n",
        "\n",
        "Hi! \n",
        "\n",
        "My name is Andrew Ma, I've recently graduated from the University of Texas - Austin with a PhD in Mathematics. I'm seeking a new career in machine learning engineering. To this end I've put together this notebook in order to show off some of the skills in Machine Learning / Data Science with a regression problem. In this notebook I include a discussion on the topics of data cleaning, data preprocessing, building and tuning a neural net in tensorflow, tuning a lasso model (linear regression with an L1 weight), and feature engineering. I look at a small dataset that I got from Kaggle.\n",
        "\n",
        "---"
      ],
      "metadata": {
        "id": "oCGuhniyVgU4"
      }
    },
    {
      "cell_type": "markdown",
      "source": [
        "# **Intro**\n",
        "\n",
        "Several years ago Zillow hosted a competition on Kaggle to find design a machine learning algorithm to predict the log-error of their \"Z-estimates\" of home prices based on a dataset recording over 50 features per home (https://www.kaggle.com/competitions/zillow-prize-1/overview).  \n",
        "\n",
        "The log-error of the \"Z-estimate\" score is a numerical value and Zillow provided a dataset with properties as rows and a list of the corresponding log-errors for each property. This challenge is an example of a supervised learning regression problem. \n",
        "\n",
        "The original dataset provided by Zillow for training contains over 2 million entries. My computational resources are limited to my personal laptop and the Google Colab notebooks. In an effort to accomdate my computational resources I've decided to work with just the first 1000 entries in the provided dataset \"properties_2016.csv\"\n",
        "\n",
        "On this smaller dataset, I clean the data, preprocess it with a Standard Scaler from scikit-learn, and then I train and tune a neural net built with tensorflow.keras and using a mean squared error loss function. I then compare my built neural net to a linear regression made with scikit-learn. \n",
        "\n",
        "Later I look for additional ways I might be able to improve my linear regression model using regularization and feature engineering. "
      ],
      "metadata": {
        "id": "CrWdQFyWLfjr"
      }
    },
    {
      "cell_type": "markdown",
      "source": [
        "# **EDA**\n",
        "\n",
        "Usually, exploratory data analysis (EDA) includes some amount of summary statistics using pandas and visual inspection of the data using plotting. While I do use Seaborn library to make plots of the aggregated data in my work, I have not included any plots from doing EDA in this notebook for the sake of brevity."
      ],
      "metadata": {
        "id": "F-6fCmAwLg0O"
      }
    },
    {
      "cell_type": "markdown",
      "source": [
        "# **Data Cleaning (and Tidying)**\n",
        "\n",
        "To start, I will need to inspect and clean this dataset. \n",
        "\n",
        "From an initial inspection of the columns of my small dataset I thought that the data looked tidy (meaning each row represented one observation and I didn't see any variables used as columns), so I didn't feel the need to use the pandas.melt to rearrange any of the columns. \n",
        "\n",
        "I noticed that a number of the column names refered to an 'id' used for categorizing the home that represented by that row of data. I like to One-Hot encode categorical data types but I don't like to use One-Hot encoding on too many variables because this can make my data frame sparse which I think makes it more challenging for machine learning methods for regression to be fitted to the data. \n",
        "\n",
        "I decided to set aside just the 'propertylandusetypeid' feature to One-Hot encode later and drop the other features related to 'id's. \n",
        "\n",
        "I also decided to drop about 6 additional features. After I read their descriptions in the included file from Zillow I felt that these variables also wouldn't be helpful to train on. \n",
        "\n"
      ],
      "metadata": {
        "id": "L2O4QFQmLwsR"
      }
    },
    {
      "cell_type": "code",
      "source": [
        "import pandas as pd\n",
        "from google.colab import drive\n",
        "drive.mount('/content/drive')\n",
        "# This is for changing the directory that I'm in to the Google Drive directory\n",
        "# This makes it easier for me to access my scripts in the Google Drive directory\n",
        "import sys\n",
        "sys.path.append('/content/drive/My Drive')\n",
        "\n",
        "df = pd.read_csv('/content/drive/My Drive/small_properties_2016.csv')\n",
        "#df = pd.read_csv('small_properties_2016.csv')\n",
        "\n",
        "# I plan to one-hot encode this feature later\n",
        "# For now I will save it for later\n",
        "column_to_add_later = df['propertylandusetypeid']\n",
        "\n",
        "lst_of_drops = []\n",
        "for col in df.columns:\n",
        "    if 'id' in col:\n",
        "        lst_of_drops.append(col)\n",
        "df.drop(lst_of_drops, axis = 1, inplace = True)\n",
        "\n",
        "#I read about these features and I didn't find them helpful to train on either\n",
        "df.drop(['propertycountylandusecode', 'fips', 'Unnamed: 0', \n",
        "         'rawcensustractandblock', 'censustractandblock', \n",
        "         'lotsizesquarefeet'], axis = 1, inplace = True)\n",
        "# print the features and datatypes\n",
        "print(df.info())"
      ],
      "metadata": {
        "colab": {
          "base_uri": "https://localhost:8080/"
        },
        "id": "WVQ9Fyn7-IIh",
        "outputId": "ce004439-cb84-4793-8603-85ddd2c5fc92"
      },
      "execution_count": null,
      "outputs": [
        {
          "output_type": "stream",
          "name": "stdout",
          "text": [
            "Drive already mounted at /content/drive; to attempt to forcibly remount, call drive.mount(\"/content/drive\", force_remount=True).\n",
            "<class 'pandas.core.frame.DataFrame'>\n",
            "RangeIndex: 1000 entries, 0 to 999\n",
            "Data columns (total 36 columns):\n",
            " #   Column                        Non-Null Count  Dtype  \n",
            "---  ------                        --------------  -----  \n",
            " 0   basementsqft                  6 non-null      float64\n",
            " 1   bathroomcnt                   1000 non-null   float64\n",
            " 2   bedroomcnt                    1000 non-null   float64\n",
            " 3   calculatedbathnbr             711 non-null    float64\n",
            " 4   finishedfloor1squarefeet      676 non-null    float64\n",
            " 5   calculatedfinishedsquarefeet  938 non-null    float64\n",
            " 6   finishedsquarefeet12          849 non-null    float64\n",
            " 7   finishedsquarefeet13          11 non-null     float64\n",
            " 8   finishedsquarefeet15          77 non-null     float64\n",
            " 9   finishedsquarefeet50          676 non-null    float64\n",
            " 10  finishedsquarefeet6           1 non-null      float64\n",
            " 11  fireplacecnt                  499 non-null    float64\n",
            " 12  fullbathcnt                   711 non-null    float64\n",
            " 13  garagecarcnt                  680 non-null    float64\n",
            " 14  garagetotalsqft               680 non-null    float64\n",
            " 15  hashottuborspa                0 non-null      float64\n",
            " 16  latitude                      1000 non-null   float64\n",
            " 17  longitude                     1000 non-null   float64\n",
            " 18  poolcnt                       64 non-null     float64\n",
            " 19  poolsizesum                   61 non-null     float64\n",
            " 20  propertyzoningdesc            126 non-null    object \n",
            " 21  roomcnt                       1000 non-null   float64\n",
            " 22  threequarterbathnbr           190 non-null    float64\n",
            " 23  unitcnt                       75 non-null     float64\n",
            " 24  yardbuildingsqft17            280 non-null    float64\n",
            " 25  yardbuildingsqft26            14 non-null     float64\n",
            " 26  yearbuilt                     928 non-null    float64\n",
            " 27  numberofstories               722 non-null    float64\n",
            " 28  fireplaceflag                 0 non-null      float64\n",
            " 29  structuretaxvaluedollarcnt    837 non-null    float64\n",
            " 30  taxvaluedollarcnt             868 non-null    float64\n",
            " 31  assessmentyear                1000 non-null   float64\n",
            " 32  landtaxvaluedollarcnt         864 non-null    float64\n",
            " 33  taxamount                     969 non-null    float64\n",
            " 34  taxdelinquencyflag            10 non-null     object \n",
            " 35  taxdelinquencyyear            10 non-null     float64\n",
            "dtypes: float64(34), object(2)\n",
            "memory usage: 281.4+ KB\n",
            "None\n"
          ]
        }
      ]
    },
    {
      "cell_type": "markdown",
      "source": [
        "## **Handling Missing Data**\n",
        "\n",
        "I started by dropping any features/columns that were missing 60% or more of its data. The 60% is an arbitrary number that I generally use as a guideline when choosing the drop features. "
      ],
      "metadata": {
        "id": "Qpgp-C_xCELI"
      }
    },
    {
      "cell_type": "code",
      "source": [
        "proportions_na = df.isna().sum()/len(df)*100\n",
        "\n",
        "# Drop any columns missing 60% of their data.\n",
        "lst_of_drops = []\n",
        "for col in df.columns:\n",
        "    if proportions_na[col] >= 60:\n",
        "        lst_of_drops.append(col)\n",
        "df.drop(lst_of_drops, axis = 1, inplace = True)\n",
        "\n",
        "# Print the percentages missing data for each column/ feature\n",
        "print('The percentage of missing values per column')\n",
        "print(df.isna().sum()/len(df)*100)"
      ],
      "metadata": {
        "colab": {
          "base_uri": "https://localhost:8080/"
        },
        "id": "sqd0uimcLACz",
        "outputId": "e8be3213-8f34-4758-8d0b-42be1273df38"
      },
      "execution_count": null,
      "outputs": [
        {
          "output_type": "stream",
          "name": "stdout",
          "text": [
            "The percentage of missing values per column\n",
            "bathroomcnt                      0.0\n",
            "bedroomcnt                       0.0\n",
            "calculatedbathnbr               28.9\n",
            "finishedfloor1squarefeet        32.4\n",
            "calculatedfinishedsquarefeet     6.2\n",
            "finishedsquarefeet12            15.1\n",
            "finishedsquarefeet50            32.4\n",
            "fireplacecnt                    50.1\n",
            "fullbathcnt                     28.9\n",
            "garagecarcnt                    32.0\n",
            "garagetotalsqft                 32.0\n",
            "latitude                         0.0\n",
            "longitude                        0.0\n",
            "roomcnt                          0.0\n",
            "yearbuilt                        7.2\n",
            "numberofstories                 27.8\n",
            "structuretaxvaluedollarcnt      16.3\n",
            "taxvaluedollarcnt               13.2\n",
            "assessmentyear                   0.0\n",
            "landtaxvaluedollarcnt           13.6\n",
            "taxamount                        3.1\n",
            "dtype: float64\n"
          ]
        }
      ]
    },
    {
      "cell_type": "markdown",
      "source": [
        "### **Single Imputation**\n",
        "\n",
        "I noticed that certain features such as 'calculatedbathnbr' or  'finishedfloor1squarefeet' were missing data. I thought it was strange that certain home listings in Zillow could have no bathrooms or no finished floors. \n",
        "\n",
        "After reading through the data description file that was included with the Zillow data I decided that it's likely some of data entries represent unfinished homes (in the process of being built) or possibly even empty lots. \n",
        "\n",
        "By assuming that some data entries represented empty lots / unfinished homes I felt comfortable with filling in a subset of features' missing data with zeroes. The act of filling in data like this is sometimes called simple imputation or single imputation. "
      ],
      "metadata": {
        "id": "gTIqcZeyLPDf"
      }
    },
    {
      "cell_type": "code",
      "source": [
        "#Fill in 0s for the following features\n",
        "make_0_columns = ['calculatedbathnbr', \n",
        "                  'finishedfloor1squarefeet', \n",
        "                  'finishedsquarefeet12', \n",
        "                  'finishedsquarefeet50', \n",
        "                  'fireplacecnt', \n",
        "                  'fullbathcnt', \n",
        "                  'garagecarcnt', \n",
        "                  'garagetotalsqft', \n",
        "                  'numberofstories']\n",
        "for col in make_0_columns:\n",
        "    df[col].fillna(value = 0, inplace = True)"
      ],
      "metadata": {
        "id": "YMlg7CJgNTNc"
      },
      "execution_count": null,
      "outputs": []
    },
    {
      "cell_type": "markdown",
      "source": [
        "While I was at it I decided to impute the missing values in the 'calculatedfinishedsquarefeet' and 'yearbuilt' by using the values from another column in the same row. "
      ],
      "metadata": {
        "id": "VhynQGNgN8A6"
      }
    },
    {
      "cell_type": "code",
      "source": [
        "# Set calculatedfinishedsquarefeet to be finishedsquarefeet12 \n",
        "# finishedsquarefeet12 is the sqft of the finished living area and \n",
        "# the total calculatedfinishedsquarefeet should be at least as much as this value\n",
        "df['calculatedfinishedsquarefeet'].fillna(df['finishedsquarefeet12'], inplace = True)\n",
        "\n",
        "# Set yearbuilt to be assessmentyear because I assume a home needs to be built \n",
        "# before it is assessed\n",
        "df['yearbuilt'].fillna(df['assessmentyear'], inplace = True)\n",
        "\n",
        "# Print the percentages of missing data per column\n",
        "print('The percentage of missing values per column')\n",
        "print(df.isna().sum()/len(df)*100)"
      ],
      "metadata": {
        "colab": {
          "base_uri": "https://localhost:8080/"
        },
        "id": "lz6t9hlBOQwH",
        "outputId": "6f9269c1-8914-4ae9-abf3-1abc3e93294c"
      },
      "execution_count": null,
      "outputs": [
        {
          "output_type": "stream",
          "name": "stdout",
          "text": [
            "The percentage of missing values per column\n",
            "bathroomcnt                      0.0\n",
            "bedroomcnt                       0.0\n",
            "calculatedbathnbr                0.0\n",
            "finishedfloor1squarefeet         0.0\n",
            "calculatedfinishedsquarefeet     0.0\n",
            "finishedsquarefeet12             0.0\n",
            "finishedsquarefeet50             0.0\n",
            "fireplacecnt                     0.0\n",
            "fullbathcnt                      0.0\n",
            "garagecarcnt                     0.0\n",
            "garagetotalsqft                  0.0\n",
            "latitude                         0.0\n",
            "longitude                        0.0\n",
            "roomcnt                          0.0\n",
            "yearbuilt                        0.0\n",
            "numberofstories                  0.0\n",
            "structuretaxvaluedollarcnt      16.3\n",
            "taxvaluedollarcnt               13.2\n",
            "assessmentyear                   0.0\n",
            "landtaxvaluedollarcnt           13.6\n",
            "taxamount                        3.1\n",
            "dtype: float64\n"
          ]
        }
      ]
    },
    {
      "cell_type": "markdown",
      "source": [
        "### **Multiple Imputation**\n",
        "\n",
        "I observed that the remaining features with missing data are dollar amounts related to the value of the home or listing. I don't know how the dollar amounts are determined but I know it should somehow be dependent on the other features of the listing i.e. the total square feet, the number of stories, etc.\n",
        "\n",
        "I'd like someway to keep these dollar amount features in my data set for training because I think it could be important information. \n",
        "\n",
        "I decided that this would be a good opportunity to use multiple imputation from the scikit-learn library. Multiple imputation guesses what a missing value should be based on the other information in the dataset. Through multiple trials of guessing values and scoring the guesses a (hopefully) accurate guess is used to fill in the missing data. \n",
        "\n",
        "The code to do this looks as follows:\n"
      ],
      "metadata": {
        "id": "3lIzBUY8PG-k"
      }
    },
    {
      "cell_type": "code",
      "source": [
        "import numpy as np\n",
        "from sklearn.experimental import enable_iterative_imputer\n",
        "from sklearn.impute import IterativeImputer\n",
        "\n",
        "# Create the IterativeImputer model to predict missing values\n",
        "imp = IterativeImputer(max_iter=10, random_state=0)\n",
        " \n",
        "# Fit the model to the test dataset\n",
        "imp.fit(df)\n",
        "\n",
        "# Transform the model on the entire dataset\n",
        "# I checked and it appears most of the original data is rounded to one decimal\n",
        "dfComplete = pd.DataFrame(np.round(imp.transform(df),1), columns=df.columns)\n",
        "\n",
        "# The dataset is now complete i.e. it no longer has missing values\n",
        "print('The percentage of missing values per column')\n",
        "print(dfComplete.isna().sum()/len(df)*100)"
      ],
      "metadata": {
        "colab": {
          "base_uri": "https://localhost:8080/"
        },
        "id": "-gW79SLnQUBE",
        "outputId": "ac8cd2dc-9b6e-4932-a092-5027b1ca9f02"
      },
      "execution_count": null,
      "outputs": [
        {
          "output_type": "stream",
          "name": "stdout",
          "text": [
            "The percentage of missing values per column\n",
            "bathroomcnt                     0.0\n",
            "bedroomcnt                      0.0\n",
            "calculatedbathnbr               0.0\n",
            "finishedfloor1squarefeet        0.0\n",
            "calculatedfinishedsquarefeet    0.0\n",
            "finishedsquarefeet12            0.0\n",
            "finishedsquarefeet50            0.0\n",
            "fireplacecnt                    0.0\n",
            "fullbathcnt                     0.0\n",
            "garagecarcnt                    0.0\n",
            "garagetotalsqft                 0.0\n",
            "latitude                        0.0\n",
            "longitude                       0.0\n",
            "roomcnt                         0.0\n",
            "yearbuilt                       0.0\n",
            "numberofstories                 0.0\n",
            "structuretaxvaluedollarcnt      0.0\n",
            "taxvaluedollarcnt               0.0\n",
            "assessmentyear                  0.0\n",
            "landtaxvaluedollarcnt           0.0\n",
            "taxamount                       0.0\n",
            "dtype: float64\n"
          ]
        }
      ]
    },
    {
      "cell_type": "markdown",
      "source": [
        "## **Preprocessing the Data**"
      ],
      "metadata": {
        "id": "m3rEgwiUyJom"
      }
    },
    {
      "cell_type": "markdown",
      "source": [
        "### **Variance Threshold**\n",
        "\n",
        "I have successfully cleaned the data for missing values and now I would like to preprocess my data before training a machine learning model in it. \n",
        "\n",
        "To begin my preprocessing I'd like to drop any features in the dataset that have relatively low variance because low variance features will make it difficult for a machine learning algorithm to distinguish between samples. \n",
        "\n",
        "To do this I use a variance threshold preprocessor to filter my features. By using the pandas.DataFrame.describe() method I can see that my dataset has a range of values that can sometimes be in the hundreds or thousands for some features. So I arbitrarily decided that a variance threshold of one would be good enough for this dataset. "
      ],
      "metadata": {
        "id": "BSTNOTkwQ411"
      }
    },
    {
      "cell_type": "code",
      "source": [
        "#Now I want to remove the columns that have low variance threshold. From looking at this earlier I decided to go with variance threshold of < 1 \n",
        "from sklearn.feature_selection import VarianceThreshold\n",
        "# Before the Variance Threshold I have 21 features\n",
        "print(len(dfComplete.columns))\n",
        "\n",
        "selector = VarianceThreshold(threshold=1)\n",
        "X = selector.fit_transform(dfComplete)\n",
        "dfComplete = pd.DataFrame(X, columns = selector.get_feature_names_out())\n",
        "# After the Variance Threshold I have 17 features\n",
        "print(len(dfComplete.columns))"
      ],
      "metadata": {
        "colab": {
          "base_uri": "https://localhost:8080/"
        },
        "id": "1vFPphhAvSwI",
        "outputId": "d47ee3fa-1206-4f89-f452-62c2cc6f0373"
      },
      "execution_count": null,
      "outputs": [
        {
          "output_type": "stream",
          "name": "stdout",
          "text": [
            "21\n",
            "17\n"
          ]
        }
      ]
    },
    {
      "cell_type": "markdown",
      "source": [
        "### **Rescaling**\n",
        "\n",
        "Next I'd like to rescale my dataset. Ideally I'd like to use a Min-Max Scaler in order to put all of my data on the same scale between 0 and 1 but from inspecting my dataset it seems that this dataset has some outliers. Outliers make Min-Max Scaling a bad choice because it tends to smash most of the data close together on the 0 to 1 scale. \n",
        "\n",
        "So instead, I'll be using a Standard Scaler to make the mean 0 and the standard deviation to be 1. Sometimes this is also referred to as Z-score normalization. \n",
        "\n",
        "It would also be interesting to try using a non-linear rescaler like the Quantile Transformer from scikit-learn but I prefer to start with using a Standard Scaler because it's a linear transformation on the dataset, so we won't lose any linear relationships this way. \n",
        "\n",
        "I use a Standard Scaler below along with a Column Transformer from scikit-learn"
      ],
      "metadata": {
        "id": "xr-06H5WwG12"
      }
    },
    {
      "cell_type": "code",
      "source": [
        "from sklearn.compose import make_column_selector\n",
        "from sklearn.compose import make_column_transformer\n",
        "from sklearn.preprocessing import StandardScaler\n",
        "# Make a Column Transformer and apply it to all floating point data types \n",
        "# i.e. all of my data in this data frame\n",
        "ct = make_column_transformer(\n",
        "    (StandardScaler(), make_column_selector(dtype_include= 'float64')), \n",
        "    remainder='passthrough'\n",
        "    )\n",
        "# Apply the Column Transformer\n",
        "dfComplete_scaled = pd.DataFrame(ct.fit_transform(dfComplete), columns = dfComplete.columns)"
      ],
      "metadata": {
        "id": "8w2gsd_KzITU"
      },
      "execution_count": null,
      "outputs": []
    },
    {
      "cell_type": "markdown",
      "source": [
        "Note to self... it might be nice to give before and after pictures of the transformer here...?"
      ],
      "metadata": {
        "id": "U6DsdPKkzf2L"
      }
    },
    {
      "cell_type": "markdown",
      "source": [
        "With my dataset now fully rescaled I'd like to add back in the 'propertylandusetypeid' feature from earlier as a One-Hot encoding. "
      ],
      "metadata": {
        "id": "a9cvmO4MzrEE"
      }
    },
    {
      "cell_type": "code",
      "source": [
        "#One Hot Encoding\n",
        "# At this point all of my data in dfComplete is full and I can add back in the one-hot encoding\n",
        "dfComplete_scaled['propertylandusetypeid'] = pd.Categorical(column_to_add_later)\n",
        "# The get_dummies method is the way we encode categorical data in pandas\n",
        "dfComplete_scaled = pd.get_dummies(dfComplete_scaled)\n"
      ],
      "metadata": {
        "id": "NndzLEs80KPH"
      },
      "execution_count": null,
      "outputs": []
    },
    {
      "cell_type": "markdown",
      "source": [
        "At this point I now have a dataset of 29 features with 1000 entries and I'm ready to train a machine learning model on this dataset. "
      ],
      "metadata": {
        "id": "3jy-N8fM0f-d"
      }
    },
    {
      "cell_type": "code",
      "source": [
        "print(dfComplete_scaled.info())\n"
      ],
      "metadata": {
        "colab": {
          "base_uri": "https://localhost:8080/"
        },
        "id": "S_95VQIk0qpB",
        "outputId": "83c949e1-e027-43d2-9af3-20ef616bda3c"
      },
      "execution_count": null,
      "outputs": [
        {
          "output_type": "stream",
          "name": "stdout",
          "text": [
            "<class 'pandas.core.frame.DataFrame'>\n",
            "RangeIndex: 1000 entries, 0 to 999\n",
            "Data columns (total 29 columns):\n",
            " #   Column                        Non-Null Count  Dtype  \n",
            "---  ------                        --------------  -----  \n",
            " 0   bathroomcnt                   1000 non-null   float64\n",
            " 1   bedroomcnt                    1000 non-null   float64\n",
            " 2   calculatedbathnbr             1000 non-null   float64\n",
            " 3   finishedfloor1squarefeet      1000 non-null   float64\n",
            " 4   calculatedfinishedsquarefeet  1000 non-null   float64\n",
            " 5   finishedsquarefeet12          1000 non-null   float64\n",
            " 6   finishedsquarefeet50          1000 non-null   float64\n",
            " 7   fullbathcnt                   1000 non-null   float64\n",
            " 8   garagetotalsqft               1000 non-null   float64\n",
            " 9   latitude                      1000 non-null   float64\n",
            " 10  longitude                     1000 non-null   float64\n",
            " 11  roomcnt                       1000 non-null   float64\n",
            " 12  yearbuilt                     1000 non-null   float64\n",
            " 13  structuretaxvaluedollarcnt    1000 non-null   float64\n",
            " 14  taxvaluedollarcnt             1000 non-null   float64\n",
            " 15  landtaxvaluedollarcnt         1000 non-null   float64\n",
            " 16  taxamount                     1000 non-null   float64\n",
            " 17  propertylandusetypeid_31.0    1000 non-null   uint8  \n",
            " 18  propertylandusetypeid_47.0    1000 non-null   uint8  \n",
            " 19  propertylandusetypeid_246.0   1000 non-null   uint8  \n",
            " 20  propertylandusetypeid_247.0   1000 non-null   uint8  \n",
            " 21  propertylandusetypeid_248.0   1000 non-null   uint8  \n",
            " 22  propertylandusetypeid_260.0   1000 non-null   uint8  \n",
            " 23  propertylandusetypeid_261.0   1000 non-null   uint8  \n",
            " 24  propertylandusetypeid_263.0   1000 non-null   uint8  \n",
            " 25  propertylandusetypeid_265.0   1000 non-null   uint8  \n",
            " 26  propertylandusetypeid_266.0   1000 non-null   uint8  \n",
            " 27  propertylandusetypeid_269.0   1000 non-null   uint8  \n",
            " 28  propertylandusetypeid_275.0   1000 non-null   uint8  \n",
            "dtypes: float64(17), uint8(12)\n",
            "memory usage: 144.7 KB\n",
            "None\n"
          ]
        }
      ]
    },
    {
      "cell_type": "markdown",
      "source": [
        "# **Modeling**\n",
        "I'd like to start by comparing a deep learning neural net with linear regression. Generally, deep learning methods perform better with large amounts of data. With a small dataset like the one that I'm working with in this notebook, containing 1000 entries, we might expect that linear regression will be faster to train and better at predicting. \n",
        "\n",
        "I decided to use tensorflow.keras to build my neural network and I'd like my neural network to contain the following parts:\n",
        "\n",
        "* 2 - 6 hidden layers \n",
        "* 32 - 256 nodes per layer\n",
        "* A 'relu' or 'sigmoid' activation function\n",
        "* A mean squared error loss function\n",
        "* A learning rate between 0.00001 and 0.01 \n",
        "* Dropout layers for regularization (to prevent overfitting)\n",
        "* Batch Normalization in between hidden layers (to help more accurate training)\n",
        "\n",
        "Fortunately, thanks to the Keras-Tuner ([Keras Tuner API](https://keras.io/keras_tuner/)) it's easy to use the specifications above to define a parameter space to search for models in. \n",
        "\n",
        "To get started, I need to install the *Keras-Tuner* in this notebook"
      ],
      "metadata": {
        "id": "QLuQq0YAL3qM"
      }
    },
    {
      "cell_type": "code",
      "source": [
        "# I need to install the keras tuner with pip, using the flag --quiet prevents pip from showing the output\n",
        "!pip install keras-tuner --quiet"
      ],
      "metadata": {
        "id": "yHyphSU_Yans"
      },
      "execution_count": null,
      "outputs": []
    },
    {
      "cell_type": "markdown",
      "source": [
        "Next, I define a subclass of *keras_tuner.HyperModel* so that I can customize the *build* method to build neural networks that have the specifications described in the bullet points above.  "
      ],
      "metadata": {
        "id": "SsrZuEfVYdpK"
      }
    },
    {
      "cell_type": "code",
      "source": [
        "import tensorflow as tf\n",
        "from tensorflow.keras.models import Sequential\n",
        "from tensorflow.keras import layers\n",
        "from tensorflow.keras.layers import Input, Dense, Dropout, BatchNormalization\n",
        "from tensorflow.keras.optimizers import Adam\n",
        "import keras_tuner\n",
        "\n",
        "#for reproducibility of result I always use the same seed for the random number generator. \n",
        "tf.random.set_seed(42) \n",
        "\n",
        "class MyHyperModel(keras_tuner.HyperModel):\n",
        "    def build(self, hp):\n",
        "        model = Sequential()\n",
        "        model.add(Input(shape = (29,)))\n",
        "        for i in range(hp.Int(\"num_layers\", 2, 6)):\n",
        "            model.add(\n",
        "                Dense(\n",
        "                    # Tune number of units separately.\n",
        "                    units=hp.Int(f\"num_nodes_{i}\", min_value=32, max_value=256, step=32),\n",
        "                    activation=hp.Choice(f\"activation\", values = [\"relu\", \"sigmoid\"])\n",
        "                )\n",
        "            )\n",
        "            model.add(BatchNormalization())\n",
        "            model.add(Dropout(0.2))\n",
        "        model.add(Dense(1))\n",
        "        \n",
        "        lr = hp.Float(\"learning_rate\", min_value = 1e-5, max_value = 1e-2)\n",
        "        # Use an Adam optimizer and also record the mean absolute error, 'mae', as I go. \n",
        "        model.compile(optimizer = Adam(learning_rate = lr), loss = 'mean_squared_error', metrics = ['mae'])\n",
        "        return model"
      ],
      "metadata": {
        "id": "-En0F1nOXf8T"
      },
      "execution_count": null,
      "outputs": []
    },
    {
      "cell_type": "markdown",
      "source": [
        "## **Tuning the Neural Network**\n"
      ],
      "metadata": {
        "id": "CUUCmpEuMWbT"
      }
    },
    {
      "cell_type": "markdown",
      "source": [
        "I'm now ready to create the tuner and search the hyperparameter space. The Keras Tuner provides several options for searching the hyperparameter space:\n",
        "\n",
        "\n",
        "* RandomSearch Tuner\n",
        "* Sklearn Tuner\n",
        "* BayesOptimization Tuner\n",
        "* Hyperband Tuner\n",
        "\n",
        "The first two options are similar to RandomSearchCV and GridSearchCV, respectively, commonly used in scikit-learn. The BayesOptimization Tuner searches the hyperparameter space more efficiently by using Bayes Optimization to make educated guesses on what hyperparameter settings to try based on previously tried hyperparameter settings (Please see Appendix for more information). It's interesting to note that the site (https://scikit-optimize.github.io/stable/index.html) offers Bayes Optimized Searching built for scikit-learn.  \n",
        "\n",
        "For this dataset, I would like to use the Hyperband Tuner. This strategy builds a wide variety of neural network models and  sets up a tournament style bracket to compare model performance. Each model is run for a few epochs while monitoring their performance and the worst performing models are eliminated while the best performing models are run for more epochs. This process gets repeated until a single model is selected. ([Link to the 2016 ArXiv paper on Hyperband](https://arxiv.org/abs/1603.06560)).\n",
        "\n",
        "First, I'll load my dataset and split it into a training portion and a testing portion. It may be important to add that I similarly cleaned the labels dataset originally from Zillow but I did not show the steps for cleaning it here. "
      ],
      "metadata": {
        "id": "gNjyhur0vGNy"
      }
    },
    {
      "cell_type": "code",
      "source": [
        "# The features will be my cleaned dataset from earlier\n",
        "features = dfComplete_scaled\n",
        "# Read in the labels data\n",
        "labels = pd.read_csv('/content/drive/My Drive/cleaned_small_train_2016_v2.csv')\n",
        "# The labels originally have several unneccesary columns of information that\n",
        "# needs to be dropped\n",
        "labels.drop(['Unnamed: 0'], axis = 1, inplace = True)\n",
        "\n",
        "#For splitting the training and testing data\n",
        "from sklearn.model_selection import train_test_split\n",
        "x_train, x_test, y_train, y_test = train_test_split(features, labels, test_size = 0.15)\n",
        "# I think I need to convert my data to numpy arrays because keras doesn't \n",
        "# like lists of lists \n",
        "x_train = np.asarray(x_train)\n",
        "y_train = np.asarray(y_train)"
      ],
      "metadata": {
        "id": "ol7mL1gN1bgp"
      },
      "execution_count": null,
      "outputs": []
    },
    {
      "cell_type": "markdown",
      "source": [
        "Here's my code for creating and running a Hyperband Tuner. For this setup it takes me 3-5 min running on a TPU in a Google Colab notebook before I obtain a best model\n"
      ],
      "metadata": {
        "id": "zc1TAUYD1cGO"
      }
    },
    {
      "cell_type": "code",
      "source": [
        "# Create a Hyperband Tuner \n",
        "tuner = keras_tuner.Hyperband(hypermodel = MyHyperModel(),\n",
        "    objective='val_loss',\n",
        "    max_epochs = 20,\n",
        "    #max_epochs=60,\n",
        "    factor=3, \n",
        "    executions_per_trial=2, \n",
        "    overwrite=True,\n",
        "    project_name=\"MyTuner\"\n",
        "    )\n",
        "\n",
        "# Search the parameter space\n",
        "tuner.search(\n",
        "    x_train, y_train, \n",
        "    epochs = 60,\n",
        "    batch_size = 16, \n",
        "    verbose = 1, \n",
        "    validation_split = 0.2\n",
        "    )"
      ],
      "metadata": {
        "id": "GnKtYQlYzy92",
        "colab": {
          "base_uri": "https://localhost:8080/"
        },
        "outputId": "318ab730-bdc0-4903-e8ef-6b88b5677ccf"
      },
      "execution_count": null,
      "outputs": [
        {
          "output_type": "stream",
          "name": "stdout",
          "text": [
            "Trial 30 Complete [00h 00m 19s]\n",
            "val_loss: 0.008661333471536636\n",
            "\n",
            "Best val_loss So Far: 0.007299746852368116\n",
            "Total elapsed time: 00h 04m 16s\n",
            "INFO:tensorflow:Oracle triggered exit\n"
          ]
        }
      ]
    },
    {
      "cell_type": "markdown",
      "source": [
        "When we are done tuning the neural network model we can look at details of the best performing model. \n"
      ],
      "metadata": {
        "id": "Te36Wo5t0Bt2"
      }
    },
    {
      "cell_type": "code",
      "source": [
        "# Get the top model.\n",
        "models = tuner.get_best_models(num_models=1)\n",
        "best_model = models[0]\n",
        "# Build the model\n",
        "best_model.summary()\n",
        "# Show the best hyperparameters\n",
        "tuner.results_summary(1)"
      ],
      "metadata": {
        "id": "W5I7Dx_N0OYW",
        "colab": {
          "base_uri": "https://localhost:8080/"
        },
        "outputId": "ef57f425-4f81-4285-957b-d0e8487a9df6"
      },
      "execution_count": null,
      "outputs": [
        {
          "output_type": "stream",
          "name": "stdout",
          "text": [
            "Model: \"sequential\"\n",
            "_________________________________________________________________\n",
            " Layer (type)                Output Shape              Param #   \n",
            "=================================================================\n",
            " dense (Dense)               (None, 192)               5760      \n",
            "                                                                 \n",
            " batch_normalization (BatchN  (None, 192)              768       \n",
            " ormalization)                                                   \n",
            "                                                                 \n",
            " dropout (Dropout)           (None, 192)               0         \n",
            "                                                                 \n",
            " dense_1 (Dense)             (None, 32)                6176      \n",
            "                                                                 \n",
            " batch_normalization_1 (Batc  (None, 32)               128       \n",
            " hNormalization)                                                 \n",
            "                                                                 \n",
            " dropout_1 (Dropout)         (None, 32)                0         \n",
            "                                                                 \n",
            " dense_2 (Dense)             (None, 256)               8448      \n",
            "                                                                 \n",
            " batch_normalization_2 (Batc  (None, 256)              1024      \n",
            " hNormalization)                                                 \n",
            "                                                                 \n",
            " dropout_2 (Dropout)         (None, 256)               0         \n",
            "                                                                 \n",
            " dense_3 (Dense)             (None, 128)               32896     \n",
            "                                                                 \n",
            " batch_normalization_3 (Batc  (None, 128)              512       \n",
            " hNormalization)                                                 \n",
            "                                                                 \n",
            " dropout_3 (Dropout)         (None, 128)               0         \n",
            "                                                                 \n",
            " dense_4 (Dense)             (None, 32)                4128      \n",
            "                                                                 \n",
            " batch_normalization_4 (Batc  (None, 32)               128       \n",
            " hNormalization)                                                 \n",
            "                                                                 \n",
            " dropout_4 (Dropout)         (None, 32)                0         \n",
            "                                                                 \n",
            " dense_5 (Dense)             (None, 1)                 33        \n",
            "                                                                 \n",
            "=================================================================\n",
            "Total params: 60,001\n",
            "Trainable params: 58,721\n",
            "Non-trainable params: 1,280\n",
            "_________________________________________________________________\n",
            "Results summary\n",
            "Results in ./MyTuner\n",
            "Showing 1 best trials\n",
            "<keras_tuner.engine.objective.Objective object at 0x7feb19e99590>\n",
            "Trial summary\n",
            "Hyperparameters:\n",
            "num_layers: 5\n",
            "num_nodes_0: 192\n",
            "activation: relu\n",
            "num_nodes_1: 32\n",
            "learning_rate: 0.009081633063996458\n",
            "num_nodes_2: 256\n",
            "num_nodes_3: 128\n",
            "tuner/epochs: 20\n",
            "tuner/initial_epoch: 7\n",
            "tuner/bracket: 2\n",
            "tuner/round: 2\n",
            "num_nodes_4: 32\n",
            "tuner/trial_id: 0012\n",
            "Score: 0.007299746852368116\n"
          ]
        }
      ]
    },
    {
      "cell_type": "markdown",
      "source": [
        "I would like to train the best model on more epochs to see if the mean squared error can be improved by training for more epochs. In the previous tuning I only trained models for 20 epochs and now I'd like to try to training the same model on up to 100 epochs. \n",
        "\n",
        "I'll also use an early stopping callback based on validation loss so that I don't train my model excessively long and I'll use a 20% cross validation split on the training data. "
      ],
      "metadata": {
        "id": "ywk5qIJf0Rgj"
      }
    },
    {
      "cell_type": "code",
      "source": [
        "from tensorflow.keras.callbacks import EarlyStopping\n",
        "# Create an early stopping callback for validation loss\n",
        "es = EarlyStopping(\n",
        "    monitor = 'val_loss', \n",
        "    mode = 'min', \n",
        "    verbose = 0, \n",
        "    patience = 40)\n",
        "\n",
        "# Refit the best model for 100 epochs\n",
        "history = best_model.fit(\n",
        "    x_train, \n",
        "    y_train, \n",
        "    epochs=100, \n",
        "    batch_size = 16, \n",
        "    validation_split = 0.2, \n",
        "    verbose = 0, \n",
        "    callbacks = [es])"
      ],
      "metadata": {
        "id": "b_d0E-t01IL4"
      },
      "execution_count": null,
      "outputs": []
    },
    {
      "cell_type": "markdown",
      "source": [
        "Now that I've refit my best neural network model I would like to know if my model is underfitting or overfitting my training data. I check this by calling the *evaluate* method on my model using the testing data I set aside earlier but I think it would be interesting and fun to look a plot of the loss and validation loss during the model training. \n",
        "\n",
        "Below is some code to plot the results of retraining my model. The plot on the left shows the mean squared error of the loss and the validation loss. \n",
        "\n",
        "The plot on the right will show the mean absolute error that was also tracked during the training. "
      ],
      "metadata": {
        "id": "jPhzvh6f1qDp"
      }
    },
    {
      "cell_type": "code",
      "source": [
        "import matplotlib.pyplot as plt\n",
        "\n",
        "#plotting\n",
        "fig, axs = plt.subplots(1, 2, gridspec_kw={'hspace': 1, 'wspace': 0.5}) \n",
        "(ax1, ax2) = axs\n",
        "ax1.plot(history.history['loss'], label='train')\n",
        "ax1.plot(history.history['val_loss'], label='validation')\n",
        "ax1.legend(loc=\"upper right\")\n",
        "ax1.set_xlabel(\"# of epochs\")\n",
        "ax1.set_ylabel(\"loss (mse)\")\n",
        "\n",
        "ax2.plot(history.history['mae'], label='train')\n",
        "ax2.plot(history.history['val_mae'], label='validation')\n",
        "ax2.legend(loc=\"upper right\")\n",
        "ax2.set_xlabel(\"# of epochs\")\n",
        "ax2.set_ylabel(\"MAE\")\n",
        "\n",
        "plt.show()\n",
        "plt.clf()"
      ],
      "metadata": {
        "id": "wYcK0Iac2mJs",
        "colab": {
          "base_uri": "https://localhost:8080/",
          "height": 297
        },
        "outputId": "0763b487-3043-4f88-95c4-11e1db8b64c4"
      },
      "execution_count": null,
      "outputs": [
        {
          "output_type": "display_data",
          "data": {
            "text/plain": [
              "<Figure size 432x288 with 2 Axes>"
            ],
            "image/png": "[encoded data removed]"
          },
          "metadata": {
            "needs_background": "light"
          }
        },
        {
          "output_type": "display_data",
          "data": {
            "text/plain": [
              "<Figure size 432x288 with 0 Axes>"
            ]
          },
          "metadata": {}
        }
      ]
    },
    {
      "cell_type": "markdown",
      "source": [
        "If the validation loss is greater than the loss during training then it's possible that my model is overfitting the training data. On the otherhand, if the validation loss is less than the loss during training then it could be the case that my model is underfitting the training data. \n",
        "\n",
        "Finally, I'd like to evaluate my model on the testing data and I'd like to compare the my model's performance to linear regression run on the same dataset as a benchmark. "
      ],
      "metadata": {
        "id": "GQnFkLJz23HG"
      }
    },
    {
      "cell_type": "code",
      "source": [
        "# Compare the nn to a linear regressor\n",
        "from sklearn.metrics import mean_squared_error\n",
        "from sklearn.linear_model import LinearRegression\n",
        "\n",
        "lr = LinearRegression()\n",
        "# Recast the output of train test split into numpy arrays before \n",
        "# passing the data to my linear regressor\n",
        "x_test = np.asarray(x_test)\n",
        "x_train = np.asarray(x_train)\n",
        "\n",
        "lr.fit(x_train, y_train)\n",
        "y_pred = lr.predict(x_test)\n",
        "lin_mse = mean_squared_error(y_pred, y_test)\n",
        "\n",
        "val_mse, val_mae = best_model.evaluate(x_test, y_test, verbose = 0)\n",
        "print(\"Neural Net MSE: \", val_mse)\n",
        "print('Linear Reg. MSE: ', lin_mse)"
      ],
      "metadata": {
        "id": "IkabPfw-38v_",
        "colab": {
          "base_uri": "https://localhost:8080/"
        },
        "outputId": "1a0cebfb-979f-430a-da63-22d46f3f95c3"
      },
      "execution_count": null,
      "outputs": [
        {
          "output_type": "stream",
          "name": "stdout",
          "text": [
            "Neural Net MSE:  0.017025159671902657\n",
            "Linear Reg. MSE:  0.017662602167069857\n"
          ]
        }
      ]
    },
    {
      "cell_type": "markdown",
      "source": [
        "We can see that my neural network model performs comparably to linear regression despite taking longer to train. This is not very surprising because the dataset that I am using in this example is small (1000 samples). Deep Learning methods tend to do better than classical machine learning methods when working with large amounts of data. \n",
        "\n",
        "It would be interesting to compare my model's performance to linear regression on the full dataset (more than 2 million samples). \n",
        "\n",
        "For now, I'd like to optimize linear regression on my small dataset to see if the mean squared error can be reduced more. "
      ],
      "metadata": {
        "id": "qSNFdTxv4XjQ"
      }
    },
    {
      "cell_type": "markdown",
      "source": [
        "## **Tuning Linear Regression**\n",
        "\n",
        "I'm going to try using Lasso, an L1 based regularization of linear regression. Hopefully, Lasso will perform even better than my previous linear regression. \n",
        "\n",
        "I considered using BayesSearchCV search from the skopt library to tune the L1 weight parameter in Lasso but I found that scikit-learn already includes a version of Lasso that uses gradient descent to find the optimal L1 weight ( [skopt BayesSearchCV API](https://scikit-optimize.github.io/stable/modules/generated/skopt.BayesSearchCV.html)). It even uses cross validation so I don't feel the need to any of the parameter tuning methods such as GridSearchCV or RandomSearchCV. \n",
        "\n",
        "Here is an example of using Lasso in comparision to using Linear Regression. "
      ],
      "metadata": {
        "id": "sD0fatEuNMRK"
      }
    },
    {
      "cell_type": "code",
      "source": [
        "# Compare the Lasso to a linear regressor\n",
        "from sklearn.linear_model import LassoCV\n",
        "\n",
        "# Split the data into training and testing\n",
        "x_train, x_test, y_train, y_test = train_test_split(features, labels, test_size = 0.15)\n",
        "# I need to flatten the y_train array for lasso training or else it prints a warning\n",
        "y_train = np.asarray(y_train).ravel()\n",
        "\n",
        "# I think LassoCV already does the tuning so that I don't need to do a BayesSearchCV on it\n",
        "lasso = LassoCV(eps = 1e-3, max_iter=5000, tol=0.001)\n",
        "lr = LinearRegression()\n",
        "# Fit both models\n",
        "lasso.fit(x_train, y_train)\n",
        "lr.fit(x_train, y_train)\n",
        "# Use the fitted models on the test data \n",
        "lasso_y_pred = lasso.predict(x_test)\n",
        "y_pred = lr.predict(x_test)\n",
        "# Calculate the Mean Squared Errors for comparison\n",
        "lasso_mse = mean_squared_error(y_pred, lasso_y_pred)\n",
        "lin_mse = mean_squared_error(y_pred, y_test)\n",
        "print(\"LassoCV MSE: \", lasso_mse)\n",
        "print('LassoCV alpha value: ', lasso.alpha_)\n",
        "print('Linear Reg. MSE: ', lin_mse)\n",
        "# Plot the results of tuning LassoCV\n",
        "plt.semilogx(lasso.alphas_, lasso.mse_path_, linestyle=\":\")\n",
        "plt.plot(\n",
        "    lasso.alphas_,\n",
        "    lasso.mse_path_.mean(axis=-1),\n",
        "    color=\"black\",\n",
        "    label=\"Average across the folds\",\n",
        "    linewidth=2,\n",
        ")\n",
        "plt.axvline(lasso.alpha_, linestyle=\"--\", color=\"black\", label=\"alpha: CV estimate\")\n",
        "\n",
        "plt.xlabel(r\"$\\alpha$\")\n",
        "plt.ylabel(\"Mean square error\")\n",
        "plt.legend()\n",
        "\n",
        "plt.show()\n",
        "plt.clf()"
      ],
      "metadata": {
        "colab": {
          "base_uri": "https://localhost:8080/",
          "height": 354
        },
        "id": "5UtVLmt4UmH3",
        "outputId": "5418a02e-d54c-4943-e313-f4b0cd8e3366"
      },
      "execution_count": null,
      "outputs": [
        {
          "output_type": "stream",
          "name": "stdout",
          "text": [
            "LassoCV MSE:  0.00038659929500878433\n",
            "LassoCV alpha value:  0.0018859341934165993\n",
            "Linear Reg. MSE:  0.01650309159303255\n"
          ]
        },
        {
          "output_type": "display_data",
          "data": {
            "text/plain": [
              "<Figure size 432x288 with 1 Axes>"
            ],
            "image/png": "[encoded data removed]"
          },
          "metadata": {
            "needs_background": "light"
          }
        },
        {
          "output_type": "display_data",
          "data": {
            "text/plain": [
              "<Figure size 432x288 with 0 Axes>"
            ]
          },
          "metadata": {}
        }
      ]
    },
    {
      "cell_type": "markdown",
      "source": [
        "In the graph above the dotted lines represents the results of a single trial of cross validation. By default LassoCV uses 5 fold cross validation and the solid black line represents the average of all of the cross validation trials. \n",
        "\n",
        "The parameter alpha is used in the definition of the loss function for LassoCV ([scikit-learn LassoCV API](https://scikit-learn.org/stable/modules/generated/sklearn.linear_model.LassoCV.html))\n",
        "\n",
        "Loss = MSE + alpha* L1-norm of parameters\n",
        "\n",
        "We can see that LassoCV has a better MSE on our testing data compared to Linear Regression but the MSE of both are pretty close and that might be because of how small the optimally choosen value of alpha is. "
      ],
      "metadata": {
        "id": "D5gwXXsyVCm4"
      }
    },
    {
      "cell_type": "markdown",
      "source": [
        "### **Feature Engineering**\n",
        "\n",
        "I would like to see if I can improve the mean squared error of my Lasso model by using feature selection or feature extraction. \n",
        "\n",
        "To begin, I'll investigate feature selection using the Recursive Feature Elimination (RFE) approach from scikit-learn. This approach involves training a model on all of the available features, ranking each feature's importance, dropping the least important feature, and repeating this process on the remaining features until a predetermined number of features is left. \n",
        "\n",
        "I also consider trying Sequential Forward Selection and Sequential Backward Selection which might be more thorough ways of selecting features but I decided to use RFE because it is faster. \n",
        "\n"
      ],
      "metadata": {
        "id": "QmY023NDN9sB"
      }
    },
    {
      "cell_type": "code",
      "source": [
        "from sklearn.feature_selection import RFE\n",
        "# Use RFE to reduce the number of features from 29 originally to 15\n",
        "# I selected 15 features after trying a variety of numbers\n",
        "selector = RFE(estimator = lr, n_features_to_select= 15)\n",
        "X = selector.fit_transform(features, labels)\n",
        "\n",
        "x_train, x_test, y_train, y_test = train_test_split(features, labels, test_size = 0.15)\n",
        "y_train = np.asarray(y_train).ravel()\n",
        "\n",
        "lr = LinearRegression()\n",
        "lasso = LassoCV(eps = 1e-3, max_iter=5000, tol=0.001)\n",
        "\n",
        "lr.fit(x_train, y_train)\n",
        "lasso.fit(x_train, y_train)\n",
        "\n",
        "y_pred = lr.predict(x_test)\n",
        "lasso_y_pred = lasso.predict(x_test)\n",
        "\n",
        "lasso_mse = mean_squared_error(y_pred, lasso_y_pred)\n",
        "lin_mse = mean_squared_error(y_pred, y_test)\n",
        "\n",
        "print(\"LassoCV MSE after RFE(15 features): \", lasso_mse)\n",
        "#print('LassoCV alpha value: ', lasso.alpha_)\n",
        "print('Linear Reg. MSE after RFE(15 features): ', lin_mse)"
      ],
      "metadata": {
        "colab": {
          "base_uri": "https://localhost:8080/"
        },
        "id": "PuwbN7hHWTby",
        "outputId": "f8e3569a-f4bd-4719-9906-ac4247fc3e99"
      },
      "execution_count": null,
      "outputs": [
        {
          "output_type": "stream",
          "name": "stdout",
          "text": [
            "LassoCV MSE after RFE(15 features):  0.0010234871454129167\n",
            "Linear Reg. MSE after RFE(15 features):  0.009484076302200127\n"
          ]
        }
      ]
    },
    {
      "cell_type": "markdown",
      "source": [
        "The results of using RFE seem to be comparable or even slightly worse than not using RFE on the data. This might mean that I'll need to keep all of the features if I want the smallest possible error although if I'm willing to accept slightly worse mean squared errors then I could drop roughly half of the features from the dataset. \n",
        "\n",
        "Next I want to try a feature extraction approach. I will try a dimension reduction on my full set of features using Principal Component Analysis (PCA) to see if that improves the mean squared error from lasso or linear regression. \n",
        "\n",
        "Normally when examining a variety of preprocessing transforms and estimators it might be a good idea to build a pipeline in scikit-learn to bundle these steps together but for a single experiement I resuse most of the code from RFE. "
      ],
      "metadata": {
        "id": "f9jAftLI2jMV"
      }
    },
    {
      "cell_type": "code",
      "source": [
        "# I want to do PCA to go from 29 features to 15\n",
        "# I chose 15 features after trying a few different numbers\n",
        "from sklearn.decomposition import PCA\n",
        "pca = PCA(n_components = 15)\n",
        "X = pd.DataFrame(pca.fit_transform(features))\n",
        "\n",
        "x_train, x_test, y_train, y_test = train_test_split(features, labels, test_size = 0.15)\n",
        "\n",
        "y_train = np.asarray(y_train).ravel()\n",
        "\n",
        "lr = LinearRegression()\n",
        "lasso = LassoCV(eps = 1e-3, max_iter=5000, tol=0.001)\n",
        "\n",
        "lr.fit(x_train, y_train)\n",
        "lasso.fit(x_train, y_train)\n",
        "\n",
        "y_pred = lr.predict(x_test)\n",
        "lasso_y_pred = lasso.predict(x_test)\n",
        "\n",
        "lasso_mse = mean_squared_error(y_pred, lasso_y_pred)\n",
        "lin_mse = mean_squared_error(y_pred, y_test)\n",
        "\n",
        "print(\"LassoCV MSE after PCA(15 features): \", lasso_mse)\n",
        "#print('LassoCV alpha value: ', lasso.alpha_)\n",
        "print('Linear Reg. MSE after PCA(15 features): ', lin_mse)"
      ],
      "metadata": {
        "colab": {
          "base_uri": "https://localhost:8080/"
        },
        "id": "TcnpViFP4sX2",
        "outputId": "8e856883-d519-422f-84c4-d833ba5f0cb6"
      },
      "execution_count": null,
      "outputs": [
        {
          "output_type": "stream",
          "name": "stdout",
          "text": [
            "LassoCV MSE after PCA(15 features):  0.0006208405413218714\n",
            "Linear Reg. MSE after PCA(15 features):  0.021248541210212548\n"
          ]
        }
      ]
    },
    {
      "cell_type": "markdown",
      "source": [
        "It seems that applying PCA for reducing the dimension of the dataset does not lead to great improvements for the mean squared error compared to using the full dataset in either of lasso or linear regression. It's possible that there is a slight improvement by using PCA but this would be better seen by running multiple trials and either averaging the mean squared error results or plotting a histogram of the errors. \n",
        "\n",
        "For the time being I think it's safe to say that for a using lasso is a better option than linear regression on my dataset of 1000 entries and while feature selection methods like RFE and feature extraction methods like PCA are nice, in this case it doesn't lead to any significant improvements. \n",
        "\n",
        "\n",
        "\n"
      ],
      "metadata": {
        "id": "frgNTbv96lwu"
      }
    },
    {
      "cell_type": "markdown",
      "source": [
        "# **Conclusion**\n",
        "\n",
        "After cleaning my data I made a dataset of about 1000 entries with 29 features to a regression train on. \n",
        "\n",
        "I found that linaer regression gave a smaller mean squared error compared to a neural net on this dataset. In one trial I did (not listed in this notebook) I had the following mean squared error for a neural of 6 layers with total 27,000 parameters. \n",
        "\n",
        "> Neural Net MSE:  0.029488882049918175\n",
        "\n",
        "> Linear Reg. MSE:  0.023287213589404897\n",
        "\n",
        "Meanwhile a Lasso model trained on the same dataset had a MSE of \n",
        "\n",
        "> LassoCV MSE:  0.0003934555890057121\n",
        "\n",
        "This was a couple orders of magnitude better. I tried to improve this MSE by using feature selection and feature extraction on my dataset before but I did not see any significant improvements. \n",
        "\n",
        "It's not surprising to see that Lasso outperformed a neural network considering that my training dataset is rather small. "
      ],
      "metadata": {
        "id": "RUhnTs79W8w6"
      }
    },
    {
      "cell_type": "markdown",
      "source": [
        "# **Possible Further Work**\n",
        "In follow up it would be nice to see try out some of scikit-learn's other built-in models for regression such as Ridge, Elastic-Net, or even something like decision tree - regression to see if any other models work better on this small dataset of 1000 examples. \n",
        "\n",
        "It would also be important to see how accurate the models I tried are when used on the full dataset of over 2 million entries. For example, deep learning algorithms generally seem to perform better when trained on larger amounts of data so it's possible that the deep learning model I made earlier would be the better than linear regression or lasso on the full dataset. \n",
        "\n",
        "Unrelated to this work, I have future goals to continue studying current popular machine learning libraries such as XGBoost. I also would like to continue studying deep learning by doing a project in image classification where I build an autoencoder to use alongside a Convolution Neural Network. \n",
        "\n",
        "Thanks for your interest. "
      ],
      "metadata": {
        "id": "h1ht3R-0W84O"
      }
    },
    {
      "cell_type": "markdown",
      "source": [
        "# **Appendix**\n"
      ],
      "metadata": {
        "id": "5IUuAx6dwyTG"
      }
    },
    {
      "cell_type": "markdown",
      "source": [
        "## **Resources for Learning more about Bayes Optimization**\n",
        "\n",
        "Here’s some links that I read that I found helpful for learning Bayes Optimized search:\n",
        "\n",
        "1.   This is a simpler broad overview of some big picture ideas of Bayes Search but done through the library hyperopt - I would only suggest skimming this article for buzzwords.\n",
        "[Bayesian Optimization for quicker hyperparameter tuning](https://www.vantage-ai.com/en/blog/bayesian-optimization-for-quicker-hyperparameter-tuning)\n",
        "\n",
        "2.   This is more of middle ground between math and big picture ideas: https://proceedings.neurips.cc/paper/2012/file/05311655a15b75fab86956663e1819cd-Paper.pdf\n",
        "\n",
        "\n",
        "3.  This is an article that goes into detail of some of the math. I liked it but I only read up to section 2.3 b/c I didn’t find the rest of it helpful.\n",
        "https://arxiv.org/pdf/1012.2599.pdf\n",
        "\n",
        "4. [Extra] This is a video explaining what a Gaussian process is. I liked the presentation for the helpful pictures: https://www.youtube.com/watch?v=92-98SYOdlY&feature=emb_title\n",
        "\n",
        "5. Finally, here’s a link to the [API of BayesSearchCV in skopt](https://scikit-optimize.github.io/stable/modules/generated/skopt.BayesSearchCV.html). It works basically like the stuff in scikit learn but be careful that you may need to specify which data in your search space is Real a.k.a. Numerical and what is Categorical (Please see the second link on Bayes optimization in skopt for more detail)\n",
        "\n"
      ],
      "metadata": {
        "id": "jHLmx2OuvFVj"
      }
    }
  ]
}